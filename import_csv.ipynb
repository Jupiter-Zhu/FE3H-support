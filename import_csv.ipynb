{
 "cells": [
  {
   "cell_type": "code",
   "execution_count": 32,
   "metadata": {},
   "outputs": [],
   "source": [
    "import csv\n",
    "\n",
    "with open('lost_items.csv') as csvDataFile:\n",
    "    lost_items_reader= csv.reader(csvDataFile)\n",
    "    lost_item=[row for row in lost_items_reader]"
   ]
  },
  {
   "cell_type": "code",
   "execution_count": 33,
   "metadata": {
    "scrolled": true
   },
   "outputs": [
    {
     "data": {
      "text/plain": [
       "[['Edelgard', 'White Glove', 'Time worn Quill Pen', 'Eastern Porcelain'],\n",
       " ['Dimitri', 'Dulled Longsword', 'Black Leather Gloves', 'Training Logbook'],\n",
       " ['Claude', 'Leather Bow Sheath', 'Mild Stomach Poison', 'Board Game Piece'],\n",
       " ['Hubert', 'Hresvelg Treatise', 'Noxious Handkerchief', 'Folding Razor'],\n",
       " ['Ferdinand', 'Maintenance Oil', 'Agricultural Survey', 'Bag of Tea Leaves'],\n",
       " ['Linhardt', 'The Saints Revealed', 'Feather Pillow', 'Animated Bait'],\n",
       " ['Caspar', 'Thunderbrand Replica', 'Tattered Overcoat', 'Grounding Charm'],\n",
       " ['Bernadetta', 'Needle and Thread', 'Still-Life Picture', 'Hedgehog Case'],\n",
       " ['Dorothea', 'Silver Brooch', 'Songstress Poster', 'Lovely Comb'],\n",
       " ['Petra', 'Exotic Flower', 'Small Tanned Hide', 'Annotated Dictionary'],\n",
       " ['Dedue', 'Gold Earring', 'Gardening Sheers', 'Iron Cooking Pot'],\n",
       " ['Felix', 'Black Iron Spur', 'Sword Belt Fragment', 'Toothed Dagger'],\n",
       " ['Ashe', \"Moon Knight's Tale\", 'Evil-Repelling Amulet', 'Bundle of Herbs'],\n",
       " ['Sylvain',\n",
       "  'Unused Lipstick',\n",
       "  'Crumpled Love Letter',\n",
       "  'The History of Sreng'],\n",
       " ['Mercedes',\n",
       "  'Book of Ghost Stories',\n",
       "  'Fruit Preserves',\n",
       "  'How to Bake Sweets'],\n",
       " ['Annette', 'Unfinished Score', 'School of Sorcery Book', 'Wax Diptych'],\n",
       " ['Ingrid', 'Pegasus Horseshoes', 'Jousting Almanac', 'Curry Comb'],\n",
       " ['Lorenz',\n",
       "  'Artificial Flower',\n",
       "  'A Treatise on Etiquette',\n",
       "  'Silk Handkerchief'],\n",
       " ['Raphael', 'Wooden Button', 'Burlap Sack of Rocks', 'Big Spoon'],\n",
       " ['Ignatz', 'Blue Stone', 'Art Book', 'Letter to the Goddess'],\n",
       " ['Lysithea',\n",
       "  'Encyclopedia of Sweets',\n",
       "  'Princess Doll',\n",
       "  'New Bottle of Perfume'],\n",
       " ['Marianne', 'Bag of Seeds', 'How to be Tidy', 'Confessional Letter'],\n",
       " ['Hilda', 'Handmade Hair Clip', 'Spotless Bandage', 'Used Bottle of Perfume'],\n",
       " ['Leonie', 'Hand Drawn Map', 'Crude Arrowheads', 'Fur Scarf'],\n",
       " ['Seteth', 'Unfinished Fable', 'Old Fishing Rod', 'Snapped Writing Quill'],\n",
       " ['Flayn', 'Antique Clasp', 'Old Map of Enbarr', 'Dusty Book of Fables'],\n",
       " ['Hanneman', 'Lens Cloth', 'Hammer and Chisel', 'Sketch of a Sigil'],\n",
       " ['Manuela', 'Wellness Herbs', 'Clean Dusting Cloth', 'Light Purple Veil'],\n",
       " ['Gilbert', 'Noseless Puppet', 'Carving Hammer', 'Silver Necklace'],\n",
       " ['Alois',\n",
       "  'Introduction to Magic',\n",
       "  'Foreign Gold Coin',\n",
       "  'Mysterious Notebook'],\n",
       " ['Catherine', 'Weathered Cloak', 'Letter to Rhea', 'Badge of Graduation'],\n",
       " ['Shamir', 'Bundle of Dry Hemp', 'Centipede Picture', 'Animal Bone Dice'],\n",
       " ['Cyril', 'Well-Used Hatchet', 'Portrait of Rhea', 'Old Cleaning Cloth'],\n",
       " ['Jeralt', 'Wooden Flask']]"
      ]
     },
     "execution_count": 33,
     "metadata": {},
     "output_type": "execute_result"
    }
   ],
   "source": [
    "lost_item"
   ]
  },
  {
   "cell_type": "code",
   "execution_count": 36,
   "metadata": {},
   "outputs": [],
   "source": [
    "with open('gifts.csv') as csvDataFile:\n",
    "    gifts_reader= csv.reader(csvDataFile)\n",
    "    gifts=[row for row in gifts_reader]"
   ]
  },
  {
   "cell_type": "code",
   "execution_count": 37,
   "metadata": {
    "scrolled": false
   },
   "outputs": [
    {
     "data": {
      "text/plain": [
       "[['Edelgard', 'Armored Bear Stuffy', 'Monarch Studies Book', 'Board Game'],\n",
       " ['Dimitri',\n",
       "  'Training Weight',\n",
       "  'Whetstone',\n",
       "  'Riding Boots',\n",
       "  'Ceremonial Sword'],\n",
       " ['Claude',\n",
       "  'Riding Boots',\n",
       "  'Book of Crest Designs',\n",
       "  'Exotic Spices',\n",
       "  'Board Game'],\n",
       " ['Hubert', 'Coffee Beans', 'Board Game', 'The History of Fodlan'],\n",
       " ['Ferdinand', 'Riding Boots', 'Whetstone', 'Tea Leaves'],\n",
       " ['Linhardt', 'Tasty Baked Treat', 'Book of Crest Designs', 'Fishing Float'],\n",
       " ['Caspar', 'Training Weight', 'Whetstone', 'Hunting Dagger', 'Smoked Meat'],\n",
       " ['Bernadetta',\n",
       "  'Armored Bear Stuffy',\n",
       "  'Book of Sheet Music',\n",
       "  'Watering Can',\n",
       "  'Landscape Painting',\n",
       "  'Dapper Handkerchief'],\n",
       " ['Dorothea', 'Book of Sheet Music', 'Gemstone Beads', 'Stylish Hair Clip'],\n",
       " ['Petra', 'Hunting Dagger', 'Exotic Spices', 'Smoked Meat'],\n",
       " ['Dedue', 'Exotic Spices', 'Floral Adornment', 'Watering Can'],\n",
       " ['Felix',\n",
       "  'Smoked Meat',\n",
       "  'Hunting Dagger',\n",
       "  'Training Weight',\n",
       "  'Ceremonial Sword'],\n",
       " ['Ashe',\n",
       "  'Legends of Chivalry',\n",
       "  'Exotic Spices',\n",
       "  'Tasty Baked Treat',\n",
       "  'Ancient Coin'],\n",
       " ['Sylvain', 'Landscape Painting', 'Dapper Handkerchief', 'Board Game'],\n",
       " ['Mercedes',\n",
       "  'Tasty Bake Treat',\n",
       "  'Goddess Statuette',\n",
       "  'Armored Bear Stuffy',\n",
       "  'Gemstone Beads'],\n",
       " ['Annette',\n",
       "  'Book of Sheet Music',\n",
       "  'Stylish Hair Clip',\n",
       "  'Arithmetic Textbook'],\n",
       " ['Ingrid', 'Riding Boots', 'Smoked Meat', 'Legends of Chivalry'],\n",
       " ['Lorenz', 'Floral Adornment', 'Tea Leaves', 'Book of Sheet Music'],\n",
       " ['Raphael',\n",
       "  'Smoked Meat',\n",
       "  'Training Weight',\n",
       "  'Tasty Baked Treat',\n",
       "  'Blue Cheese'],\n",
       " ['Ignatz',\n",
       "  'Ancient Coin',\n",
       "  'Landscape Painting',\n",
       "  'Goddess Statuette',\n",
       "  'Ceremonial Sword'],\n",
       " ['Lysithea',\n",
       "  'Armored Bear Stuffy',\n",
       "  'Arithmetic Textbook',\n",
       "  'Tasty Baked',\n",
       "  'Treat Book of Crest Designs'],\n",
       " ['Marianne',\n",
       "  'Dapper Handkerchief',\n",
       "  'Floral Adornment',\n",
       "  'Armored Bear Stuffy'],\n",
       " ['Hilda',\n",
       "  'Gemstone Beads',\n",
       "  'Dapper Handkerchief',\n",
       "  'Book of Sheet Music',\n",
       "  'Stylish Hair Clip',\n",
       "  'Armored Bear Stuffy'],\n",
       " ['Leonie', 'Hunting Dagger', 'Training Weight', 'Fishing Float'],\n",
       " ['Seteth', 'The History of Fodlan', 'Fishing Float', 'Dapper Handkerchief'],\n",
       " ['Flayn',\n",
       "  'Tasty Baked Treat',\n",
       "  'Armored Bear Stuffy',\n",
       "  'Stylish Hair Clip',\n",
       "  'Dapper Handkerchief'],\n",
       " ['Hanneman',\n",
       "  'Arithmetic Textbook',\n",
       "  'Tea Leaves',\n",
       "  'Book of Crest Designs',\n",
       "  'Dapper Handkerchief'],\n",
       " ['Manuela',\n",
       "  'Book of Sheet Music',\n",
       "  'Gemstone Beads',\n",
       "  'Blue Cheese',\n",
       "  'Goddess Statuette'],\n",
       " ['Gilbert', 'Goddess Statuette', 'Fishing Float', 'Ceremonial Sword'],\n",
       " ['Alois', 'Ancient Coin', 'Fishing Float', 'Floral Adornment'],\n",
       " ['Catherine',\n",
       "  'Training Weight',\n",
       "  'Whetstone',\n",
       "  'Legends of Chivalry',\n",
       "  'Blue Cheese'],\n",
       " ['Shamir',\n",
       "  'Ancient Coin',\n",
       "  'Exotic Spices',\n",
       "  'Coffee Beans',\n",
       "  'Hunting Dagger',\n",
       "  'Book of Sheet Music'],\n",
       " ['Cyril', 'Smoked Meat', 'Hunting Dagger', 'Watering Can'],\n",
       " ['Rhea', 'Landscape Painting', 'Goddess Statuette', 'Ancient Coin']]"
      ]
     },
     "execution_count": 37,
     "metadata": {},
     "output_type": "execute_result"
    }
   ],
   "source": [
    "gifts"
   ]
  },
  {
   "cell_type": "code",
   "execution_count": 40,
   "metadata": {},
   "outputs": [
    {
     "data": {
      "text/plain": [
       "[['Edelgard', 'Carnation'],\n",
       " ['Bernadetta', 'Pitcher Plant'],\n",
       " ['Petra', 'Sunflower'],\n",
       " ['Ashe', 'Violet'],\n",
       " ['Mercedes', 'Lavender'],\n",
       " ['Lorenz', 'Rose'],\n",
       " ['Ignatz', 'Forget-me-nots'],\n",
       " ['Lysithea', 'Lily'],\n",
       " ['Marianne', 'Lily of the Valley'],\n",
       " ['Hilda', 'Anemone'],\n",
       " ['Flayn', 'Forget-me-nots'],\n",
       " ['Alois', 'Sunflower'],\n",
       " ['Cyril', \"Baby's Breath\"]]"
      ]
     },
     "execution_count": 40,
     "metadata": {},
     "output_type": "execute_result"
    }
   ],
   "source": [
    "with open('flowers.csv') as csvDataFile:\n",
    "    flowers_reader= csv.reader(csvDataFile)\n",
    "    flowers=[row for row in flowers_reader]\n",
    "flowers"
   ]
  },
  {
   "cell_type": "code",
   "execution_count": null,
   "metadata": {},
   "outputs": [],
   "source": []
  },
  {
   "cell_type": "code",
   "execution_count": null,
   "metadata": {},
   "outputs": [],
   "source": []
  }
 ],
 "metadata": {
  "kernelspec": {
   "display_name": "Python 3",
   "language": "python",
   "name": "python3"
  },
  "language_info": {
   "codemirror_mode": {
    "name": "ipython",
    "version": 3
   },
   "file_extension": ".py",
   "mimetype": "text/x-python",
   "name": "python",
   "nbconvert_exporter": "python",
   "pygments_lexer": "ipython3",
   "version": "3.6.4"
  }
 },
 "nbformat": 4,
 "nbformat_minor": 2
}
